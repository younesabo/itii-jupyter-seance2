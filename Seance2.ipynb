{
 "cells": [
  {
   "cell_type": "markdown",
   "metadata": {
    "colab_type": "text",
    "id": "view-in-github"
   },
   "source": [
    "<a href=\"https://colab.research.google.com/github/BDafflon/itii-jupyter/blob/master/Seance2.ipynb\" target=\"_parent\"><img src=\"https://colab.research.google.com/assets/colab-badge.svg\" alt=\"Open In Colab\"/></a>"
   ]
  },
  {
   "cell_type": "markdown",
   "metadata": {
    "colab_type": "text",
    "id": "TKz8_nW8kcAc"
   },
   "source": [
    "#programmation orientée objet (POO)"
   ]
  },
  {
   "cell_type": "markdown",
   "metadata": {
    "colab_type": "text",
    "id": "fTOd3HyLkfpk"
   },
   "source": [
    "La programmation orientée objet (POO) est un passage obligé lors de l’apprentissage de nombreux langage informatiques et est également un sujet relativement ardu lorsqu’on nous le présente pour la première fois."
   ]
  },
  {
   "cell_type": "markdown",
   "metadata": {
    "colab_type": "text",
    "id": "ilPa-rmJklRM"
   },
   "source": [
    "La programmation orientée objet (ou POO en abrégé) correspond à une autre manière d’imaginer, de construire et d’organiser son code.\n",
    "\n",
    "La programmation orientée objet repose sur le concept d’objets qui sont des entités qui vont pouvoir posséder un ensemble de variables et de fonctions qui leur sont propres.\n",
    "\n",
    "Les objectifs principaux de la programmation orientée objet sont de nous permettre de créer des scripts plus clairs, mieux structurés, plus modulables et plus faciles à maintenir et à déboguer. Nous allons illustrer cela en pratique au cours de cette partie."
   ]
  },
  {
   "cell_type": "markdown",
   "metadata": {
    "colab_type": "text",
    "id": "y3YgYuIOkqak"
   },
   "source": [
    "##Le Python, un langage orienté objet\n"
   ]
  },
  {
   "cell_type": "markdown",
   "metadata": {
    "colab_type": "text",
    "id": "9EPyXHArkrvC"
   },
   "source": [
    "Python est un langage résolument orienté objet, ce qui signifie que le langage tout entier est construit autour de la notion d’objets.\n",
    "\n",
    "En fait, quasiment tout en Python est avant tout un objet et nous avons manipulé des objets depuis le début de ce cours sans nous en rendre compte : les types str, int, list, etc. sont avant tout des objets, les fonctions sont des objets, etc.\n",
    "\n",
    "Pour véritablement maitriser Python et utiliser toutes ses fonctionnalités, il est donc indispensable de comprendre cette composante orienté objet."
   ]
  },
  {
   "cell_type": "markdown",
   "metadata": {
    "colab_type": "text",
    "id": "6IeZ7lsmkxlb"
   },
   "source": [
    " ##Les objets"
   ]
  },
  {
   "cell_type": "markdown",
   "metadata": {
    "colab_type": "text",
    "id": "tEJSYKGHk1l8"
   },
   "source": [
    "Dans la vie réelle, un objet possède des caractéristiques et nous permet de réaliser des actions. Un crayon par exemple possède une taille, une couleur, une forme, etc. qui sont ses caractéristiques et permet d’écrire ou de dessiner.\n",
    "\n",
    "Le concept d’objets en informatique s’inspire fortement de cette définition de la vie réelle : on va appeler “objet” un bloc cohérent de code qui possède ses propres variables (qui sont l’équivalent des caractéristiques des objets de tous les jours) et fonctions (qui sont nos actions). Comme les objets de la vie courante, les objets informatiques peuvent être très simples ou très complexes.\n",
    "\n",
    "Vous pouvez déjà noter que Python parle “d’attributs” pour désigner les variables et fonctions d’un objet et plus précisément “d’attributs de données” pour désigner les variables d’un objet et de “méthodes” pour désigner les fonctions qui lui sont propres.\n",
    "\n",
    "Dans la plupart des langages informatiques, on parle plutôt de “membres” pour désigner les variables et fonctions d’un objet et de “propriété” pour désigner les variables et de “méthodes” pour désigner les fonctions."
   ]
  },
  {
   "cell_type": "markdown",
   "metadata": {
    "colab_type": "text",
    "id": "bSN5f6A3k-vX"
   },
   "source": [
    "En POO, un objet ne peut pas être créé ex nihiliste (à partir de rien). La plupart des langages qui supportent l’orienté objet (dont le Python) utilisent d’autres entités pour créer des objets qu’on appelle des classes.\n",
    "\n",
    "Une classe est également un ensemble cohérent de code qui contient généralement à la fois des variables et des fonctions et qui va nous servir de plan pour créer des objets possédant un même ensemble de d’attributs de données et de méthodes de base.\n",
    "\n",
    "En fait, on peut aller jusqu’à considérer que les classes sont les principaux outils de la POO puisqu’elles permettent de mettre en place des concepts fondamentaux de la POO comme l’héritage, l’encapsulation ou le polymorphisme qui sont des concepts qu’on expliquera et qu’on étudiera en détail plus tard."
   ]
  },
  {
   "cell_type": "markdown",
   "metadata": {
    "colab_type": "text",
    "id": "cUdmf_AXlAsr"
   },
   "source": [
    "##Exemple de Classe"
   ]
  },
  {
   "cell_type": "markdown",
   "metadata": {
    "colab_type": "text",
    "id": "fGNYP9I2lEjq"
   },
   "source": [
    "Pour créer une nouvelle classe Python on utilise le mot clef class suivi du nom de notre classe. Ici, on va créer une classe Utilisateur qui va être très simple pour le moment."
   ]
  },
  {
   "cell_type": "code",
   "execution_count": null,
   "metadata": {
    "colab": {},
    "colab_type": "code",
    "id": "cZ67k1BEkGYr"
   },
   "outputs": [],
   "source": [
    "class Point2D:\n",
    "  "
   ]
  },
  {
   "cell_type": "markdown",
   "metadata": {
    "colab_type": "text",
    "id": "dfzunMn_lYP0"
   },
   "source": [
    "La fonction __init__() va être automatiquement exécutée dès qu’on va instancier la classe. Cette fonction va pouvoir recevoir des arguments qu’on va lui transmettre durant l’instanciation et qui vont nous permettre de définir des valeurs propres à chaque instance.\n",
    "\n",
    "L’idée générale est la suivante : notre fonction __init__() va être construite de telle sorte à ce que les arguments passés soient utilisés comme valeur d’initalisation pour les attributs d’une instance. On va passer les argument lors de l’instanciation, via le constructeur"
   ]
  },
  {
   "cell_type": "code",
   "execution_count": 1,
   "metadata": {
    "colab": {},
    "colab_type": "code",
    "id": "mpE6MiE2lhsb"
   },
   "outputs": [],
   "source": [
    "class Point2D:\n",
    "  def __init__(self,px,py):\n",
    "    self.x=px\n",
    "    self.y=py\n",
    "  \n",
    "  def getX(self):\n",
    "    return self.x"
   ]
  },
  {
   "cell_type": "markdown",
   "metadata": {
    "colab_type": "text",
    "id": "UqrKIi-Llt0f"
   },
   "source": [
    "Notre classe Point2D() est désormais composée de variables x et y et de deux fonctions __init()__ et getX()."
   ]
  },
  {
   "cell_type": "markdown",
   "metadata": {
    "colab_type": "text",
    "id": "GFT5FlVtmDvA"
   },
   "source": [
    "Nous pouvons donc maintenant créer une instance de notre classe :"
   ]
  },
  {
   "cell_type": "code",
   "execution_count": 2,
   "metadata": {
    "colab": {
     "base_uri": "https://localhost:8080/",
     "height": 35
    },
    "colab_type": "code",
    "id": "sxEZSUgomH-S",
    "outputId": "7a3556d9-2c2b-479c-81ab-e6d0f2d940d4"
   },
   "outputs": [
    {
     "name": "stdout",
     "output_type": "stream",
     "text": [
      "0\n"
     ]
    }
   ],
   "source": [
    "myPoint2d = Point2D(0,0)\n",
    "print(myPoint2d.getX())"
   ]
  },
  {
   "cell_type": "markdown",
   "metadata": {
    "colab_type": "text",
    "id": "Gb2tYWxNmaBS"
   },
   "source": [
    "Pour aller plus loin : https://python.developpez.com/cours/apprendre-python-3/?page=la-programmation-orientee-objet"
   ]
  },
  {
   "cell_type": "markdown",
   "metadata": {
    "colab_type": "text",
    "id": "Okx2FPdCmdi6"
   },
   "source": [
    "Ex1: Rectangle \n",
    "* Ecrire une classe Rectangle en langage Python, permettant de construire un rectangle dotée d’attributs longueur et largeur.\n",
    "\n",
    "* Créer une méthode Perimetre() permettant de calculer le périmètre du rectangle et une méthode Surface() permettant de calculer la surface du rectangle\n",
    "* Créer les getters et setters.\n",
    "* Créer une classe fille Parallelepipede héritant de la classe Rectangle et dotée en plus d’un attribut hauteur et d’une autre méthode Volume() permettant de calculer le volume du Parallélépipède.\n"
   ]
  },
  {
   "cell_type": "code",
   "execution_count": 2,
   "metadata": {},
   "outputs": [],
   "source": [
    "class Rectangle:\n",
    "    def __init__(self,plongueur,plargeur):\n",
    "        self.longueur=plongueur\n",
    "        self.largeur=plargeur\n",
    "  \n",
    "    def getLongueur(self):\n",
    "        return self.longueur\n",
    "    def getLargeur(self):\n",
    "        return self.largeur\n",
    "    \n",
    "    def setLongueur(newlongueur):\n",
    "        self.longueur=newlongueur\n",
    "    def setLargeur(newlargeur):\n",
    "        self.largeur=newlargeur\n",
    "        \n",
    "    def Perimetre(self):\n",
    "        perimetre= (self.longueur * 2) + (self.largeur * 2)\n",
    "        surface= self.longueur * self.largeur\n",
    "        \n",
    "class Parallelepipede(Rectangle):\n",
    "    def __init__(self,plongueur,plargeur,phauteur):\n",
    "        super().__init__(plongueur,plargeur)\n",
    "        self.hauteur=phauteur\n",
    "        \n",
    "    def Volume(self):\n",
    "        volume= self.longueur * self.largeur * self.hauteur\n",
    "        \n",
    "    \n",
    "        "
   ]
  },
  {
   "cell_type": "markdown",
   "metadata": {
    "colab_type": "text",
    "id": "_F0lCehgn7Gq"
   },
   "source": [
    "Ex2 : Vecteur\n",
    "Déﬁnir une classe Vecteur2D avec un constructeur fournissant les coordonnées par défaut d’un vecteur du plan (par exemple : x = 0 et y = 0).\n",
    "\n",
    "Enrichissez la classe Vecteur2D  en lui ajoutant une méthode d’affichage et une méthode de surcharge d’addition de deux vecteurs du plan.\n",
    "\n",
    "\n",
    "\n"
   ]
  },
  {
   "cell_type": "code",
   "execution_count": null,
   "metadata": {},
   "outputs": [],
   "source": [
    "class Vecteur2D:\n",
    "    def __init__(self, x0, y0):\n",
    "        self.x = x0\n",
    "        self.y = y0\n",
    "        \n",
    "    def __add__(self, obj):\n",
    "        return Vecteur2D(self.x + obj.x, self.y + obj.y)\n",
    "    \n",
    "    def __str__(self):\n",
    "        return \"Vecteur({:g}, {:g})\".format(self.x, self.y)"
   ]
  },
  {
   "cell_type": "markdown",
   "metadata": {
    "colab_type": "text",
    "id": "qNxIpufdoUvT"
   },
   "source": [
    "Ex3 : Pile et File\n",
    "Implanter des classes Pile et File utilisant les listes comme structure de données interne et respectant l’interface suivante"
   ]
  },
  {
   "cell_type": "code",
   "execution_count": null,
   "metadata": {
    "colab": {},
    "colab_type": "code",
    "id": "mp_-JOPnoYVL"
   },
   "outputs": [],
   "source": [
    "class Base(object):\n",
    "    def __init__(self):\n",
    "        self.data=[]\n",
    "        self.index=0\n",
    "        \n",
    "    def Push(self, data):\n",
    "        return self.data.append\n",
    "    \n",
    "    def Pop(self, data):\n",
    "        return self.data.pop\n",
    "    \n",
    "    \n",
    "class Pile(Base):\n",
    "    def __init__(self):\n",
    "        self.data = []\n",
    "        \n",
    "class File(Base):\n",
    "    def __init__(self):\n",
    "        self.data = []\n",
    "        \n",
    "\n"
   ]
  },
  {
   "cell_type": "markdown",
   "metadata": {
    "colab_type": "text",
    "id": "-NDwPy_yozM2"
   },
   "source": [
    "Ex4: \n",
    "1. Objectifs : préparer le calcul de l’ensemble de Mandelbrot, en utilisant directement les nombres complexes\n",
    "\n",
    "Dans une classe **Mandelbrot**\n",
    "* Programmer une methode f(z,c)qui pour z et c, des nombres complexes donnés,renvoie z^2+c\n",
    "* Programme une methode iterer(c) qui pour un nombre complexe c donné, renvoie le nombre d’itérations qu’il a fallu pour que la suite(zn) s’échappe « à l’infini » ; si au bout d’un certain nombre d’itérations la suite ne s’échappe pas, la fonction renvoie 0\n",
    "\n",
    "* Programme une fonctionf(x,y,a,b) qui pour x,y,a,b, des nombres réels, calcule x′=x^2−y^2+a et y′=2x y+b et renvoie les deux nombres réels x′et y′.\n",
    "\n",
    "* Programme une fonctioniterer(a,b) qui pour un couple de réel(a,b) donné, renvoie le nombre d’itérations qu’il a fallu pour que la suite(xn,yn)s’échappe « à l’infini » ; si au bout d’un certain nombre d’itérations la suite ne s’échappe pas, la fonction renvoie 0.\n",
    "\n",
    "En utilisant matplotlib :\n",
    "* Programme une fonctionafficher_pixel(i,j,couleur)qui affiche un pixel coloré en position(i,j)\n",
    "* Programme une fonctionchoix_couleur(i)qui renvoie une couleur en fonction du nombrei(quicorrespondra au nombre d’itérations)\n",
    "* Définis des variables xmin,xmax,ymin,ymax qui correspondent à la zone de l’ensemble de Mandel-brot à visualiser."
   ]
  },
  {
   "cell_type": "code",
   "execution_count": null,
   "metadata": {},
   "outputs": [],
   "source": [
    "class MandelBrot:\n",
    "    def __init__(self):\n",
    "        pass\n",
    "        \n",
    "    def f(self,z,c):\n",
    "        return z**2 + c\n",
    "    \n",
    "    def iterer(self,c):\n",
    "     \n",
    "\n",
    "    \n",
    "    def f(self,x,y,a,b):\n",
    "        x1= x**2 - y**2 + a\n",
    "        y1= 2*x*y + b\n",
    "        return x1, y1\n",
    "    \n",
    "    def fonctioniterer(self,a,b):\n",
    "        "
   ]
  }
 ],
 "metadata": {
  "colab": {
   "authorship_tag": "ABX9TyOHHws08MkBvoUPAq08P6qo",
   "include_colab_link": true,
   "name": "Untitled0.ipynb",
   "provenance": []
  },
  "kernelspec": {
   "display_name": "Python 3",
   "language": "python",
   "name": "python3"
  },
  "language_info": {
   "codemirror_mode": {
    "name": "ipython",
    "version": 3
   },
   "file_extension": ".py",
   "mimetype": "text/x-python",
   "name": "python",
   "nbconvert_exporter": "python",
   "pygments_lexer": "ipython3",
   "version": "3.7.6"
  }
 },
 "nbformat": 4,
 "nbformat_minor": 1
}
